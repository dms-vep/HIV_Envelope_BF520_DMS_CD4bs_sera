{
 "cells": [
  {
   "cell_type": "markdown",
   "id": "eb1d7ade-ff7b-46f4-9ee4-c56514a9eb79",
   "metadata": {},
   "source": [
    "# Mutation effects compared to natural sequence variation\n",
    "\n",
    "This notebook commpares the effects of mutations on Env function of mediating entry into cells to their frequency in a natural sequence alignment. The alignment being used from the [filtered web alignments from LANL](https://www.hiv.lanl.gov/content/sequence/NEWALIGN/align.html) of both DNA and amino acid HIV sequences. These alignments were used to determine the natural sequence variation of HIV Env relative to BF520 in the library design section of the analysis. They were downloaded on November 9th, 2020 from [the curated alignment from LANL](https://www.hiv.lanl.gov/content/sequence/NEWALIGN/align.html) with the following settings:  \n",
    "    - Alignment type: Filtered web  \n",
    "    - Organism: HIV-1/SIVcpz  \n",
    "    - Region: Env  \n",
    "    - Subtype: M group without recombinants (A-K)  \n",
    "    - DNA/Protein: DNA for DNA alignment, Protein for amino acid alignment  \n",
    "    - Year: 2018  \n",
    "    - Format: FASTA  \n",
    "    \n",
    "    \n",
    "Import python modules: "
   ]
  },
  {
   "cell_type": "code",
   "execution_count": 10,
   "id": "6995715c-adf8-43cd-a46e-888f8c749055",
   "metadata": {
    "tags": []
   },
   "outputs": [],
   "source": [
    "import pandas as pd\n",
    "import altair as alt\n",
    "import numpy\n",
    "import scipy\n",
    "import yaml\n",
    "import warnings\n",
    "warnings.simplefilter('ignore')"
   ]
  },
  {
   "cell_type": "markdown",
   "id": "70da5f69-1ef5-41f3-863b-001483428873",
   "metadata": {},
   "source": [
    "Load the configuration file:"
   ]
  },
  {
   "cell_type": "code",
   "execution_count": 7,
   "id": "55d8ca7a-ad35-4cdb-943e-f6b1b5654156",
   "metadata": {
    "tags": []
   },
   "outputs": [],
   "source": [
    "with open(\"config.yaml\") as f:\n",
    "    config = yaml.safe_load(f)"
   ]
  },
  {
   "cell_type": "markdown",
   "id": "2881149d-e587-4564-bdd2-a78c0a41a275",
   "metadata": {},
   "source": [
    "Import, filter, and prepare the data:"
   ]
  },
  {
   "cell_type": "code",
   "execution_count": 8,
   "id": "ebf128ae-ade0-4232-a820-b603781e0e50",
   "metadata": {
    "tags": []
   },
   "outputs": [],
   "source": [
    "natural_effects_full = pd.read_csv(config['natural_sequence_data']).query('alignment==\"full\"').query('wildtype!=mutant')\n",
    "dms_effects_observed = pd.read_csv(config['muteffects_observed'])\n",
    "natural_mutation_counts_full = pd.read_csv(config['natural_sequence_counts'])\n",
    "\n",
    "dms_effects_observed['site'] = dms_effects_observed['reference_site']\n",
    "dms_effects_observed['observed_effect'] = dms_effects_observed['effect']\n",
    "\n",
    "natural_mutation_counts_full = natural_mutation_counts_full.rename(columns={'reference_site': 'site'})\n",
    "natural_mutation_counts_full['site'] = natural_mutation_counts_full['site'].astype(str)\n",
    "\n",
    "natural_effects_full = natural_effects_full.merge(dms_effects_observed[['site', 'mutant', 'observed_effect', 'times_seen']], on=['site', 'mutant']) \n",
    "\n",
    "natural_effects_full = natural_effects_full.merge(natural_mutation_counts_full, on=['site', 'mutant'], how='left')\n",
    "\n",
    "natural_effects_full_filtered = natural_effects_full.query('times_seen>3')"
   ]
  },
  {
   "cell_type": "markdown",
   "id": "78687ef3-235c-40bc-b5fc-35476f109fdd",
   "metadata": {},
   "source": [
    "Assign mutations to different groups based on their frequency in the natural sequence alignment:"
   ]
  },
  {
   "cell_type": "code",
   "execution_count": 11,
   "id": "82aea164-b1c9-47ae-98c4-3b23c968bcd5",
   "metadata": {
    "tags": []
   },
   "outputs": [],
   "source": [
    "natural_effects_full_filtered['cutoff'] = False\n",
    "previous_cutoff = 1\n",
    "for cutoff in [3, 5, 10, 50, 100, 10000]:\n",
    "    if previous_cutoff == 100:\n",
    "        natural_effects_full_filtered.loc[natural_effects_full_filtered['count'] > previous_cutoff, 'cutoff'] = \">100\"\n",
    "    else:\n",
    "        natural_effects_full_filtered.loc[natural_effects_full_filtered['count'] > previous_cutoff, 'cutoff'] = f\"{previous_cutoff}-{cutoff}\"\n",
    "    previous_cutoff = cutoff\n",
    "\n",
    "natural_effects_full_filtered.loc[natural_effects_full_filtered['mutant'] == '*', 'cutoff'] = 'stop codons'\n",
    "natural_effects_full_filtered = natural_effects_full_filtered.query('cutoff!=False')\n",
    "natural_effects_full_filtered['cutoff'] = natural_effects_full_filtered['cutoff'].astype(str)"
   ]
  },
  {
   "cell_type": "markdown",
   "id": "56877c42-1514-41ae-bd86-ea26ed43581e",
   "metadata": {},
   "source": [
    "Plot the data:"
   ]
  },
  {
   "cell_type": "code",
   "execution_count": 12,
   "id": "791397b8-b269-40f4-99c0-5269e8fa8f3e",
   "metadata": {
    "tags": []
   },
   "outputs": [
    {
     "data": {
      "text/html": [
       "\n",
       "<div id=\"altair-viz-24405ca4c0a04883a7c846f172eb3816\"></div>\n",
       "<script type=\"text/javascript\">\n",
       "  var VEGA_DEBUG = (typeof VEGA_DEBUG == \"undefined\") ? {} : VEGA_DEBUG;\n",
       "  (function(spec, embedOpt){\n",
       "    let outputDiv = document.currentScript.previousElementSibling;\n",
       "    if (outputDiv.id !== \"altair-viz-24405ca4c0a04883a7c846f172eb3816\") {\n",
       "      outputDiv = document.getElementById(\"altair-viz-24405ca4c0a04883a7c846f172eb3816\");\n",
       "    }\n",
       "    const paths = {\n",
       "      \"vega\": \"https://cdn.jsdelivr.net/npm/vega@5?noext\",\n",
       "      \"vega-lib\": \"https://cdn.jsdelivr.net/npm/vega-lib?noext\",\n",
       "      \"vega-lite\": \"https://cdn.jsdelivr.net/npm/vega-lite@5.2.0?noext\",\n",
       "      \"vega-embed\": \"https://cdn.jsdelivr.net/npm/vega-embed@6?noext\",\n",
       "    };\n",
       "\n",
       "    function maybeLoadScript(lib, version) {\n",
       "      var key = `${lib.replace(\"-\", \"\")}_version`;\n",
       "      return (VEGA_DEBUG[key] == version) ?\n",
       "        Promise.resolve(paths[lib]) :\n",
       "        new Promise(function(resolve, reject) {\n",
       "          var s = document.createElement('script');\n",
       "          document.getElementsByTagName(\"head\")[0].appendChild(s);\n",
       "          s.async = true;\n",
       "          s.onload = () => {\n",
       "            VEGA_DEBUG[key] = version;\n",
       "            return resolve(paths[lib]);\n",
       "          };\n",
       "          s.onerror = () => reject(`Error loading script: ${paths[lib]}`);\n",
       "          s.src = paths[lib];\n",
       "        });\n",
       "    }\n",
       "\n",
       "    function showError(err) {\n",
       "      outputDiv.innerHTML = `<div class=\"error\" style=\"color:red;\">${err}</div>`;\n",
       "      throw err;\n",
       "    }\n",
       "\n",
       "    function displayChart(vegaEmbed) {\n",
       "      vegaEmbed(outputDiv, spec, embedOpt)\n",
       "        .catch(err => showError(`Javascript Error: ${err.message}<br>This usually means there's a typo in your chart specification. See the javascript console for the full traceback.`));\n",
       "    }\n",
       "\n",
       "    if(typeof define === \"function\" && define.amd) {\n",
       "      requirejs.config({paths});\n",
       "      require([\"vega-embed\"], displayChart, err => showError(`Error loading script: ${err.message}`));\n",
       "    } else {\n",
       "      maybeLoadScript(\"vega\", \"5\")\n",
       "        .then(() => maybeLoadScript(\"vega-lite\", \"5.2.0\"))\n",
       "        .then(() => maybeLoadScript(\"vega-embed\", \"6\"))\n",
       "        .catch(showError)\n",
       "        .then(() => displayChart(vegaEmbed));\n",
       "    }\n",
       "  })({\"config\": {\"view\": {\"continuousWidth\": 300, \"continuousHeight\": 300, \"stroke\": null}, \"axis\": {\"grid\": false}}, \"data\": {\"name\": \"data-4670de75e1d6b07c023221d189a00042\"}, \"mark\": {\"type\": \"area\", \"fillOpacity\": 0.8, \"interpolate\": \"monotone\", \"smooth\": true, \"stroke\": \"lightgray\", \"strokeWidth\": 0.5}, \"bounds\": \"flush\", \"encoding\": {\"fill\": {\"field\": \"mean_score\", \"legend\": {\"direction\": \"horizontal\"}, \"scale\": {\"scheme\": \"yellowgreenblue\"}, \"title\": \"mean score\", \"type\": \"quantitative\"}, \"row\": {\"field\": \"cutoff\", \"header\": {\"labelAlign\": \"left\", \"labelAngle\": 0}, \"sort\": [\"stop codons\", \"1-3\", \"3-5\", \"5-10\", \"10-50\", \"50-100\", \"100-10000\"], \"spacing\": 0, \"title\": null, \"type\": \"nominal\"}, \"tooltip\": [{\"field\": \"cutoff\", \"type\": \"nominal\"}, {\"field\": \"mean_score\", \"format\": \".2f\", \"title\": \"mean score\", \"type\": \"quantitative\"}], \"x\": {\"field\": \"observed_effect\", \"scale\": {\"nice\": false}, \"title\": \"score\", \"type\": \"quantitative\"}, \"y\": {\"axis\": null, \"field\": \"count\", \"scale\": {\"range\": [27, -18.9]}, \"type\": \"quantitative\"}}, \"height\": 27, \"width\": 200, \"$schema\": \"https://vega.github.io/schema/vega-lite/v5.2.0.json\", \"datasets\": {\"data-4670de75e1d6b07c023221d189a00042\": [{\"cutoff\": \"1-3\", \"observed_effect\": -3.642, \"count\": 0.08656279749079251, \"mean_score\": -1.4575782838983051}, {\"cutoff\": \"1-3\", \"observed_effect\": -3.5567632653061225, \"count\": 0.11424651633136229, \"mean_score\": -1.4575782838983051}, {\"cutoff\": \"1-3\", \"observed_effect\": -3.4715265306122447, \"count\": 0.1440272817675865, \"mean_score\": -1.4575782838983051}, {\"cutoff\": \"1-3\", \"observed_effect\": -3.3862897959183673, \"count\": 0.17393137732470956, \"mean_score\": -1.4575782838983051}, {\"cutoff\": \"1-3\", \"observed_effect\": -3.30105306122449, \"count\": 0.20180887924742108, \"mean_score\": -1.4575782838983051}, {\"cutoff\": \"1-3\", \"observed_effect\": -3.215816326530612, \"count\": 0.22570741888289025, \"mean_score\": -1.4575782838983051}, {\"cutoff\": \"1-3\", \"observed_effect\": -3.1305795918367347, \"count\": 0.24421941952982354, \"mean_score\": -1.4575782838983051}, {\"cutoff\": \"1-3\", \"observed_effect\": -3.045342857142857, \"count\": 0.2567035789926423, \"mean_score\": -1.4575782838983051}, {\"cutoff\": \"1-3\", \"observed_effect\": -2.9601061224489795, \"count\": 0.2633165974583985, \"mean_score\": -1.4575782838983051}, {\"cutoff\": \"1-3\", \"observed_effect\": -2.874869387755102, \"count\": 0.2648520530360289, \"mean_score\": -1.4575782838983051}, {\"cutoff\": \"1-3\", \"observed_effect\": -2.7896326530612243, \"count\": 0.2624461090439331, \"mean_score\": -1.4575782838983051}, {\"cutoff\": \"1-3\", \"observed_effect\": -2.704395918367347, \"count\": 0.25725044788422197, \"mean_score\": -1.4575782838983051}, {\"cutoff\": \"1-3\", \"observed_effect\": -2.619159183673469, \"count\": 0.2501768792237827, \"mean_score\": -1.4575782838983051}, {\"cutoff\": \"1-3\", \"observed_effect\": -2.5339224489795917, \"count\": 0.241784447496907, \"mean_score\": -1.4575782838983051}, {\"cutoff\": \"1-3\", \"observed_effect\": -2.4486857142857144, \"count\": 0.2323221568191733, \"mean_score\": -1.4575782838983051}, {\"cutoff\": \"1-3\", \"observed_effect\": -2.363448979591837, \"count\": 0.22188320618862664, \"mean_score\": -1.4575782838983051}, {\"cutoff\": \"1-3\", \"observed_effect\": -2.278212244897959, \"count\": 0.21059391711169473, \"mean_score\": -1.4575782838983051}, {\"cutoff\": \"1-3\", \"observed_effect\": -2.1929755102040813, \"count\": 0.19876170675076166, \"mean_score\": -1.4575782838983051}, {\"cutoff\": \"1-3\", \"observed_effect\": -2.107738775510204, \"count\": 0.1869323544632658, \"mean_score\": -1.4575782838983051}, {\"cutoff\": \"1-3\", \"observed_effect\": -2.0225020408163266, \"count\": 0.17584112831064982, \"mean_score\": -1.4575782838983051}, {\"cutoff\": \"1-3\", \"observed_effect\": -1.937265306122449, \"count\": 0.16627594802456627, \"mean_score\": -1.4575782838983051}, {\"cutoff\": \"1-3\", \"observed_effect\": -1.8520285714285714, \"count\": 0.15890233646030655, \"mean_score\": -1.4575782838983051}, {\"cutoff\": \"1-3\", \"observed_effect\": -1.766791836734694, \"count\": 0.15412338829348407, \"mean_score\": -1.4575782838983051}, {\"cutoff\": \"1-3\", \"observed_effect\": -1.6815551020408164, \"count\": 0.15204600455538825, \"mean_score\": -1.4575782838983051}, {\"cutoff\": \"1-3\", \"observed_effect\": -1.5963183673469388, \"count\": 0.15258248050430695, \"mean_score\": -1.4575782838983051}, {\"cutoff\": \"1-3\", \"observed_effect\": -1.5110816326530614, \"count\": 0.15564520696799405, \"mean_score\": -1.4575782838983051}, {\"cutoff\": \"1-3\", \"observed_effect\": -1.4258448979591836, \"count\": 0.16133281212477682, \"mean_score\": -1.4575782838983051}, {\"cutoff\": \"1-3\", \"observed_effect\": -1.3406081632653062, \"count\": 0.17000253059658552, \"mean_score\": -1.4575782838983051}, {\"cutoff\": \"1-3\", \"observed_effect\": -1.2553714285714288, \"count\": 0.18218511891577, \"mean_score\": -1.4575782838983051}, {\"cutoff\": \"1-3\", \"observed_effect\": -1.170134693877551, \"count\": 0.1983867153409591, \"mean_score\": -1.4575782838983051}, {\"cutoff\": \"1-3\", \"observed_effect\": -1.0848979591836736, \"count\": 0.21887702804331147, \"mean_score\": -1.4575782838983051}, {\"cutoff\": \"1-3\", \"observed_effect\": -0.9996612244897958, \"count\": 0.24354955056191166, \"mean_score\": -1.4575782838983051}, {\"cutoff\": \"1-3\", \"observed_effect\": -0.9144244897959184, \"count\": 0.27187252198655554, \"mean_score\": -1.4575782838983051}, {\"cutoff\": \"1-3\", \"observed_effect\": -0.829187755102041, \"count\": 0.30288293291355495, \"mean_score\": -1.4575782838983051}, {\"cutoff\": \"1-3\", \"observed_effect\": -0.7439510204081632, \"count\": 0.3351610038677263, \"mean_score\": -1.4575782838983051}, {\"cutoff\": \"1-3\", \"observed_effect\": -0.6587142857142858, \"count\": 0.3667693659665021, \"mean_score\": -1.4575782838983051}, {\"cutoff\": \"1-3\", \"observed_effect\": -0.573477551020408, \"count\": 0.3952132455003677, \"mean_score\": -1.4575782838983051}, {\"cutoff\": \"1-3\", \"observed_effect\": -0.4882408163265306, \"count\": 0.41752159512366355, \"mean_score\": -1.4575782838983051}, {\"cutoff\": \"1-3\", \"observed_effect\": -0.4030040816326532, \"count\": 0.43053196656909093, \"mean_score\": -1.4575782838983051}, {\"cutoff\": \"1-3\", \"observed_effect\": -0.3177673469387754, \"count\": 0.43139000159567015, \"mean_score\": -1.4575782838983051}, {\"cutoff\": \"1-3\", \"observed_effect\": -0.23253061224489802, \"count\": 0.41817972574856505, \"mean_score\": -1.4575782838983051}, {\"cutoff\": \"1-3\", \"observed_effect\": -0.14729387755102064, \"count\": 0.39051936777154445, \"mean_score\": -1.4575782838983051}, {\"cutoff\": \"1-3\", \"observed_effect\": -0.06205714285714281, \"count\": 0.34991950705310165, \"mean_score\": -1.4575782838983051}, {\"cutoff\": \"1-3\", \"observed_effect\": 0.02317959183673457, \"count\": 0.2997310527861963, \"mean_score\": -1.4575782838983051}, {\"cutoff\": \"1-3\", \"observed_effect\": 0.10841632653061195, \"count\": 0.24462120179196484, \"mean_score\": -1.4575782838983051}, {\"cutoff\": \"1-3\", \"observed_effect\": 0.19365306122448978, \"count\": 0.18968206435041557, \"mean_score\": -1.4575782838983051}, {\"cutoff\": \"1-3\", \"observed_effect\": 0.27888979591836716, \"count\": 0.1394302476954273, \"mean_score\": -1.4575782838983051}, {\"cutoff\": \"1-3\", \"observed_effect\": 0.364126530612245, \"count\": 0.09701221228924777, \"mean_score\": -1.4575782838983051}, {\"cutoff\": \"1-3\", \"observed_effect\": 0.44936326530612236, \"count\": 0.06384783079401633, \"mean_score\": -1.4575782838983051}, {\"cutoff\": \"1-3\", \"observed_effect\": 0.5346, \"count\": 0.03976153408180563, \"mean_score\": -1.4575782838983051}, {\"cutoff\": \"10-50\", \"observed_effect\": -3.642, \"count\": 0.001818648893552282, \"mean_score\": -0.5011836274509804}, {\"cutoff\": \"10-50\", \"observed_effect\": -3.5567632653061225, \"count\": 0.0038444739338998626, \"mean_score\": -0.5011836274509804}, {\"cutoff\": \"10-50\", \"observed_effect\": -3.4715265306122447, \"count\": 0.007011756697877141, \"mean_score\": -0.5011836274509804}, {\"cutoff\": \"10-50\", \"observed_effect\": -3.3862897959183673, \"count\": 0.01124107069856081, \"mean_score\": -0.5011836274509804}, {\"cutoff\": \"10-50\", \"observed_effect\": -3.30105306122449, \"count\": 0.016157507464613283, \"mean_score\": -0.5011836274509804}, {\"cutoff\": \"10-50\", \"observed_effect\": -3.215816326530612, \"count\": 0.021294990749268366, \"mean_score\": -0.5011836274509804}, {\"cutoff\": \"10-50\", \"observed_effect\": -3.1305795918367347, \"count\": 0.02635019457794914, \"mean_score\": -0.5011836274509804}, {\"cutoff\": \"10-50\", \"observed_effect\": -3.045342857142857, \"count\": 0.03116742377753511, \"mean_score\": -0.5011836274509804}, {\"cutoff\": \"10-50\", \"observed_effect\": -2.9601061224489795, \"count\": 0.035447391724788474, \"mean_score\": -0.5011836274509804}, {\"cutoff\": \"10-50\", \"observed_effect\": -2.874869387755102, \"count\": 0.03868850181669842, \"mean_score\": -0.5011836274509804}, {\"cutoff\": \"10-50\", \"observed_effect\": -2.7896326530612243, \"count\": 0.04067669209804342, \"mean_score\": -0.5011836274509804}, {\"cutoff\": \"10-50\", \"observed_effect\": -2.704395918367347, \"count\": 0.04195306291123223, \"mean_score\": -0.5011836274509804}, {\"cutoff\": \"10-50\", \"observed_effect\": -2.619159183673469, \"count\": 0.04353675225013575, \"mean_score\": -0.5011836274509804}, {\"cutoff\": \"10-50\", \"observed_effect\": -2.5339224489795917, \"count\": 0.0462204026094615, \"mean_score\": -0.5011836274509804}, {\"cutoff\": \"10-50\", \"observed_effect\": -2.4486857142857144, \"count\": 0.05027677682556551, \"mean_score\": -0.5011836274509804}, {\"cutoff\": \"10-50\", \"observed_effect\": -2.363448979591837, \"count\": 0.05558857729244828, \"mean_score\": -0.5011836274509804}, {\"cutoff\": \"10-50\", \"observed_effect\": -2.278212244897959, \"count\": 0.061687192996877964, \"mean_score\": -0.5011836274509804}, {\"cutoff\": \"10-50\", \"observed_effect\": -2.1929755102040813, \"count\": 0.06775558980423467, \"mean_score\": -0.5011836274509804}, {\"cutoff\": \"10-50\", \"observed_effect\": -2.107738775510204, \"count\": 0.07291244556947374, \"mean_score\": -0.5011836274509804}, {\"cutoff\": \"10-50\", \"observed_effect\": -2.0225020408163266, \"count\": 0.07660527111289861, \"mean_score\": -0.5011836274509804}, {\"cutoff\": \"10-50\", \"observed_effect\": -1.937265306122449, \"count\": 0.07876842472571552, \"mean_score\": -0.5011836274509804}, {\"cutoff\": \"10-50\", \"observed_effect\": -1.8520285714285714, \"count\": 0.07967280535838889, \"mean_score\": -0.5011836274509804}, {\"cutoff\": \"10-50\", \"observed_effect\": -1.766791836734694, \"count\": 0.07970017864069066, \"mean_score\": -0.5011836274509804}, {\"cutoff\": \"10-50\", \"observed_effect\": -1.6815551020408164, \"count\": 0.0795415136420423, \"mean_score\": -0.5011836274509804}, {\"cutoff\": \"10-50\", \"observed_effect\": -1.5963183673469388, \"count\": 0.08080655113654048, \"mean_score\": -0.5011836274509804}, {\"cutoff\": \"10-50\", \"observed_effect\": -1.5110816326530614, \"count\": 0.08593918111405091, \"mean_score\": -0.5011836274509804}, {\"cutoff\": \"10-50\", \"observed_effect\": -1.4258448979591836, \"count\": 0.0967228538871173, \"mean_score\": -0.5011836274509804}, {\"cutoff\": \"10-50\", \"observed_effect\": -1.3406081632653062, \"count\": 0.11258812440347253, \"mean_score\": -0.5011836274509804}, {\"cutoff\": \"10-50\", \"observed_effect\": -1.2553714285714288, \"count\": 0.13072507905810374, \"mean_score\": -0.5011836274509804}, {\"cutoff\": \"10-50\", \"observed_effect\": -1.170134693877551, \"count\": 0.14846227994479685, \"mean_score\": -0.5011836274509804}, {\"cutoff\": \"10-50\", \"observed_effect\": -1.0848979591836736, \"count\": 0.16603145415462808, \"mean_score\": -0.5011836274509804}, {\"cutoff\": \"10-50\", \"observed_effect\": -0.9996612244897958, \"count\": 0.18724378024905824, \"mean_score\": -0.5011836274509804}, {\"cutoff\": \"10-50\", \"observed_effect\": -0.9144244897959184, \"count\": 0.21767723233117586, \"mean_score\": -0.5011836274509804}, {\"cutoff\": \"10-50\", \"observed_effect\": -0.829187755102041, \"count\": 0.2620722448397154, \"mean_score\": -0.5011836274509804}, {\"cutoff\": \"10-50\", \"observed_effect\": -0.7439510204081632, \"count\": 0.3226784246433016, \"mean_score\": -0.5011836274509804}, {\"cutoff\": \"10-50\", \"observed_effect\": -0.6587142857142858, \"count\": 0.39975396571037886, \"mean_score\": -0.5011836274509804}, {\"cutoff\": \"10-50\", \"observed_effect\": -0.573477551020408, \"count\": 0.4940951089763383, \"mean_score\": -0.5011836274509804}, {\"cutoff\": \"10-50\", \"observed_effect\": -0.4882408163265306, \"count\": 0.6080565377110565, \"mean_score\": -0.5011836274509804}, {\"cutoff\": \"10-50\", \"observed_effect\": -0.4030040816326532, \"count\": 0.7408137543111819, \"mean_score\": -0.5011836274509804}, {\"cutoff\": \"10-50\", \"observed_effect\": -0.3177673469387754, \"count\": 0.8799728510932301, \"mean_score\": -0.5011836274509804}, {\"cutoff\": \"10-50\", \"observed_effect\": -0.23253061224489802, \"count\": 0.997699514109162, \"mean_score\": -0.5011836274509804}, {\"cutoff\": \"10-50\", \"observed_effect\": -0.14729387755102064, \"count\": 1.0569732794909976, \"mean_score\": -0.5011836274509804}, {\"cutoff\": \"10-50\", \"observed_effect\": -0.06205714285714281, \"count\": 1.0267487476394517, \"mean_score\": -0.5011836274509804}, {\"cutoff\": \"10-50\", \"observed_effect\": 0.02317959183673457, \"count\": 0.8996128270903789, \"mean_score\": -0.5011836274509804}, {\"cutoff\": \"10-50\", \"observed_effect\": 0.10841632653061195, \"count\": 0.7011362817939938, \"mean_score\": -0.5011836274509804}, {\"cutoff\": \"10-50\", \"observed_effect\": 0.19365306122448978, \"count\": 0.48103570878683055, \"mean_score\": -0.5011836274509804}, {\"cutoff\": \"10-50\", \"observed_effect\": 0.27888979591836716, \"count\": 0.2890156409899606, \"mean_score\": -0.5011836274509804}, {\"cutoff\": \"10-50\", \"observed_effect\": 0.364126530612245, \"count\": 0.1525514559351835, \"mean_score\": -0.5011836274509804}, {\"cutoff\": \"10-50\", \"observed_effect\": 0.44936326530612236, \"count\": 0.07192599042252712, \"mean_score\": -0.5011836274509804}, {\"cutoff\": \"10-50\", \"observed_effect\": 0.5346, \"count\": 0.03132385203012834, \"mean_score\": -0.5011836274509804}, {\"cutoff\": \"3-5\", \"observed_effect\": -3.642, \"count\": 0.05228999202592534, \"mean_score\": -1.1582144086021506}, {\"cutoff\": \"3-5\", \"observed_effect\": -3.5567632653061225, \"count\": 0.07034615974113878, \"mean_score\": -1.1582144086021506}, {\"cutoff\": \"3-5\", \"observed_effect\": -3.4715265306122447, \"count\": 0.09022915053792865, \"mean_score\": -1.1582144086021506}, {\"cutoff\": \"3-5\", \"observed_effect\": -3.3862897959183673, \"count\": 0.11066453331936206, \"mean_score\": -1.1582144086021506}, {\"cutoff\": \"3-5\", \"observed_effect\": -3.30105306122449, \"count\": 0.13021505056568433, \"mean_score\": -1.1582144086021506}, {\"cutoff\": \"3-5\", \"observed_effect\": -3.215816326530612, \"count\": 0.14753897123438542, \"mean_score\": -1.1582144086021506}, {\"cutoff\": \"3-5\", \"observed_effect\": -3.1305795918367347, \"count\": 0.16162233252154976, \"mean_score\": -1.1582144086021506}, {\"cutoff\": \"3-5\", \"observed_effect\": -3.045342857142857, \"count\": 0.1719217403797967, \"mean_score\": -1.1582144086021506}, {\"cutoff\": \"3-5\", \"observed_effect\": -2.9601061224489795, \"count\": 0.17839027588016762, \"mean_score\": -1.1582144086021506}, {\"cutoff\": \"3-5\", \"observed_effect\": -2.874869387755102, \"count\": 0.18140043337315598, \"mean_score\": -1.1582144086021506}, {\"cutoff\": \"3-5\", \"observed_effect\": -2.7896326530612243, \"count\": 0.1816058205509278, \"mean_score\": -1.1582144086021506}, {\"cutoff\": \"3-5\", \"observed_effect\": -2.704395918367347, \"count\": 0.17978827872410807, \"mean_score\": -1.1582144086021506}, {\"cutoff\": \"3-5\", \"observed_effect\": -2.619159183673469, \"count\": 0.17672369843968708, \"mean_score\": -1.1582144086021506}, {\"cutoff\": \"3-5\", \"observed_effect\": -2.5339224489795917, \"count\": 0.17308194363571552, \"mean_score\": -1.1582144086021506}, {\"cutoff\": \"3-5\", \"observed_effect\": -2.4486857142857144, \"count\": 0.1693663191620943, \"mean_score\": -1.1582144086021506}, {\"cutoff\": \"3-5\", \"observed_effect\": -2.363448979591837, \"count\": 0.1658972428194681, \"mean_score\": -1.1582144086021506}, {\"cutoff\": \"3-5\", \"observed_effect\": -2.278212244897959, \"count\": 0.1628433843752869, \"mean_score\": -1.1582144086021506}, {\"cutoff\": \"3-5\", \"observed_effect\": -2.1929755102040813, \"count\": 0.1602915950436073, \"mean_score\": -1.1582144086021506}, {\"cutoff\": \"3-5\", \"observed_effect\": -2.107738775510204, \"count\": 0.15832740479927868, \"mean_score\": -1.1582144086021506}, {\"cutoff\": \"3-5\", \"observed_effect\": -2.0225020408163266, \"count\": 0.15708751605885446, \"mean_score\": -1.1582144086021506}, {\"cutoff\": \"3-5\", \"observed_effect\": -1.937265306122449, \"count\": 0.15676031155259113, \"mean_score\": -1.1582144086021506}, {\"cutoff\": \"3-5\", \"observed_effect\": -1.8520285714285714, \"count\": 0.1575463706479354, \"mean_score\": -1.1582144086021506}, {\"cutoff\": \"3-5\", \"observed_effect\": -1.766791836734694, \"count\": 0.1596229266543384, \"mean_score\": -1.1582144086021506}, {\"cutoff\": \"3-5\", \"observed_effect\": -1.6815551020408164, \"count\": 0.16315580630364496, \"mean_score\": -1.1582144086021506}, {\"cutoff\": \"3-5\", \"observed_effect\": -1.5963183673469388, \"count\": 0.16836401561938014, \"mean_score\": -1.1582144086021506}, {\"cutoff\": \"3-5\", \"observed_effect\": -1.5110816326530614, \"count\": 0.17559146749466376, \"mean_score\": -1.1582144086021506}, {\"cutoff\": \"3-5\", \"observed_effect\": -1.4258448979591836, \"count\": 0.18531676237769587, \"mean_score\": -1.1582144086021506}, {\"cutoff\": \"3-5\", \"observed_effect\": -1.3406081632653062, \"count\": 0.19805805354790254, \"mean_score\": -1.1582144086021506}, {\"cutoff\": \"3-5\", \"observed_effect\": -1.2553714285714288, \"count\": 0.21419334610763188, \"mean_score\": -1.1582144086021506}, {\"cutoff\": \"3-5\", \"observed_effect\": -1.170134693877551, \"count\": 0.23377747535528537, \"mean_score\": -1.1582144086021506}, {\"cutoff\": \"3-5\", \"observed_effect\": -1.0848979591836736, \"count\": 0.2564556049617522, \"mean_score\": -1.1582144086021506}, {\"cutoff\": \"3-5\", \"observed_effect\": -0.9996612244897958, \"count\": 0.28153402677698863, \"mean_score\": -1.1582144086021506}, {\"cutoff\": \"3-5\", \"observed_effect\": -0.9144244897959184, \"count\": 0.30818865252265437, \"mean_score\": -1.1582144086021506}, {\"cutoff\": \"3-5\", \"observed_effect\": -0.829187755102041, \"count\": 0.3357077293629933, \"mean_score\": -1.1582144086021506}, {\"cutoff\": \"3-5\", \"observed_effect\": -0.7439510204081632, \"count\": 0.3636205987505487, \"mean_score\": -1.1582144086021506}, {\"cutoff\": \"3-5\", \"observed_effect\": -0.6587142857142858, \"count\": 0.3915903595705406, \"mean_score\": -1.1582144086021506}, {\"cutoff\": \"3-5\", \"observed_effect\": -0.573477551020408, \"count\": 0.4190512399643561, \"mean_score\": -1.1582144086021506}, {\"cutoff\": \"3-5\", \"observed_effect\": -0.4882408163265306, \"count\": 0.44471981870510674, \"mean_score\": -1.1582144086021506}, {\"cutoff\": \"3-5\", \"observed_effect\": -0.4030040816326532, \"count\": 0.4662339594417522, \"mean_score\": -1.1582144086021506}, {\"cutoff\": \"3-5\", \"observed_effect\": -0.3177673469387754, \"count\": 0.4801933924852188, \"mean_score\": -1.1582144086021506}, {\"cutoff\": \"3-5\", \"observed_effect\": -0.23253061224489802, \"count\": 0.482746446245367, \"mean_score\": -1.1582144086021506}, {\"cutoff\": \"3-5\", \"observed_effect\": -0.14729387755102064, \"count\": 0.4706228867472686, \"mean_score\": -1.1582144086021506}, {\"cutoff\": \"3-5\", \"observed_effect\": -0.06205714285714281, \"count\": 0.4422672749310213, \"mean_score\": -1.1582144086021506}, {\"cutoff\": \"3-5\", \"observed_effect\": 0.02317959183673457, \"count\": 0.3986182437807357, \"mean_score\": -1.1582144086021506}, {\"cutoff\": \"3-5\", \"observed_effect\": 0.10841632653061195, \"count\": 0.34318366629195296, \"mean_score\": -1.1582144086021506}, {\"cutoff\": \"3-5\", \"observed_effect\": 0.19365306122448978, \"count\": 0.28134136033236856, \"mean_score\": -1.1582144086021506}, {\"cutoff\": \"3-5\", \"observed_effect\": 0.27888979591836716, \"count\": 0.21911169749788645, \"mean_score\": -1.1582144086021506}, {\"cutoff\": \"3-5\", \"observed_effect\": 0.364126530612245, \"count\": 0.1618444933826439, \"mean_score\": -1.1582144086021506}, {\"cutoff\": \"3-5\", \"observed_effect\": 0.44936326530612236, \"count\": 0.11325165854804391, \"mean_score\": -1.1582144086021506}, {\"cutoff\": \"3-5\", \"observed_effect\": 0.5346, \"count\": 0.07502764363775616, \"mean_score\": -1.1582144086021506}, {\"cutoff\": \"5-10\", \"observed_effect\": -3.642, \"count\": 0.037638133845457035, \"mean_score\": -0.8605718811881188}, {\"cutoff\": \"5-10\", \"observed_effect\": -3.5567632653061225, \"count\": 0.051203370653076105, \"mean_score\": -0.8605718811881188}, {\"cutoff\": \"5-10\", \"observed_effect\": -3.4715265306122447, \"count\": 0.06619347993103519, \"mean_score\": -0.8605718811881188}, {\"cutoff\": \"5-10\", \"observed_effect\": -3.3862897959183673, \"count\": 0.08150369379890715, \"mean_score\": -0.8605718811881188}, {\"cutoff\": \"5-10\", \"observed_effect\": -3.30105306122449, \"count\": 0.09581521220179955, \"mean_score\": -0.8605718811881188}, {\"cutoff\": \"5-10\", \"observed_effect\": -3.215816326530612, \"count\": 0.10783952542560132, \"mean_score\": -0.8605718811881188}, {\"cutoff\": \"5-10\", \"observed_effect\": -3.1305795918367347, \"count\": 0.11658617650376488, \"mean_score\": -0.8605718811881188}, {\"cutoff\": \"5-10\", \"observed_effect\": -3.045342857142857, \"count\": 0.12157571009597896, \"mean_score\": -0.8605718811881188}, {\"cutoff\": \"5-10\", \"observed_effect\": -2.9601061224489795, \"count\": 0.12293393710367918, \"mean_score\": -0.8605718811881188}, {\"cutoff\": \"5-10\", \"observed_effect\": -2.874869387755102, \"count\": 0.12134161330138038, \"mean_score\": -0.8605718811881188}, {\"cutoff\": \"5-10\", \"observed_effect\": -2.7896326530612243, \"count\": 0.11785546005631078, \"mean_score\": -0.8605718811881188}, {\"cutoff\": \"5-10\", \"observed_effect\": -2.704395918367347, \"count\": 0.11364716227239512, \"mean_score\": -0.8605718811881188}, {\"cutoff\": \"5-10\", \"observed_effect\": -2.619159183673469, \"count\": 0.10972517536854957, \"mean_score\": -0.8605718811881188}, {\"cutoff\": \"5-10\", \"observed_effect\": -2.5339224489795917, \"count\": 0.10671310432602987, \"mean_score\": -0.8605718811881188}, {\"cutoff\": \"5-10\", \"observed_effect\": -2.4486857142857144, \"count\": 0.10475289072696438, \"mean_score\": -0.8605718811881188}, {\"cutoff\": \"5-10\", \"observed_effect\": -2.363448979591837, \"count\": 0.10356989588750998, \"mean_score\": -0.8605718811881188}, {\"cutoff\": \"5-10\", \"observed_effect\": -2.278212244897959, \"count\": 0.10268032976270226, \"mean_score\": -0.8605718811881188}, {\"cutoff\": \"5-10\", \"observed_effect\": -2.1929755102040813, \"count\": 0.10166164536684028, \"mean_score\": -0.8605718811881188}, {\"cutoff\": \"5-10\", \"observed_effect\": -2.107738775510204, \"count\": 0.10037704335073189, \"mean_score\": -0.8605718811881188}, {\"cutoff\": \"5-10\", \"observed_effect\": -2.0225020408163266, \"count\": 0.09906668376748594, \"mean_score\": -0.8605718811881188}, {\"cutoff\": \"5-10\", \"observed_effect\": -1.937265306122449, \"count\": 0.098282116976028, \"mean_score\": -0.8605718811881188}, {\"cutoff\": \"5-10\", \"observed_effect\": -1.8520285714285714, \"count\": 0.09871334283884008, \"mean_score\": -0.8605718811881188}, {\"cutoff\": \"5-10\", \"observed_effect\": -1.766791836734694, \"count\": 0.10100083556154137, \"mean_score\": -0.8605718811881188}, {\"cutoff\": \"5-10\", \"observed_effect\": -1.6815551020408164, \"count\": 0.10561629832301041, \"mean_score\": -0.8605718811881188}, {\"cutoff\": \"5-10\", \"observed_effect\": -1.5963183673469388, \"count\": 0.11284545959383023, \"mean_score\": -0.8605718811881188}, {\"cutoff\": \"5-10\", \"observed_effect\": -1.5110816326530614, \"count\": 0.1228490133314252, \"mean_score\": -0.8605718811881188}, {\"cutoff\": \"5-10\", \"observed_effect\": -1.4258448979591836, \"count\": 0.13574943850596, \"mean_score\": -0.8605718811881188}, {\"cutoff\": \"5-10\", \"observed_effect\": -1.3406081632653062, \"count\": 0.15170164654103974, \"mean_score\": -0.8605718811881188}, {\"cutoff\": \"5-10\", \"observed_effect\": -1.2553714285714288, \"count\": 0.17093447103354265, \"mean_score\": -0.8605718811881188}, {\"cutoff\": \"5-10\", \"observed_effect\": -1.170134693877551, \"count\": 0.19377100906070363, \"mean_score\": -0.8605718811881188}, {\"cutoff\": \"5-10\", \"observed_effect\": -1.0848979591836736, \"count\": 0.22063809412133914, \"mean_score\": -0.8605718811881188}, {\"cutoff\": \"5-10\", \"observed_effect\": -0.9996612244897958, \"count\": 0.2520649487456384, \"mean_score\": -0.8605718811881188}, {\"cutoff\": \"5-10\", \"observed_effect\": -0.9144244897959184, \"count\": 0.2886547461997695, \"mean_score\": -0.8605718811881188}, {\"cutoff\": \"5-10\", \"observed_effect\": -0.829187755102041, \"count\": 0.33098929036075947, \"mean_score\": -0.8605718811881188}, {\"cutoff\": \"5-10\", \"observed_effect\": -0.7439510204081632, \"count\": 0.3794013504740495, \"mean_score\": -0.8605718811881188}, {\"cutoff\": \"5-10\", \"observed_effect\": -0.6587142857142858, \"count\": 0.4335502016621332, \"mean_score\": -0.8605718811881188}, {\"cutoff\": \"5-10\", \"observed_effect\": -0.573477551020408, \"count\": 0.49180823376014643, \"mean_score\": -0.8605718811881188}, {\"cutoff\": \"5-10\", \"observed_effect\": -0.4882408163265306, \"count\": 0.5506262328755273, \"mean_score\": -0.8605718811881188}, {\"cutoff\": \"5-10\", \"observed_effect\": -0.4030040816326532, \"count\": 0.6042277302653848, \"mean_score\": -0.8605718811881188}, {\"cutoff\": \"5-10\", \"observed_effect\": -0.3177673469387754, \"count\": 0.6450429352763563, \"mean_score\": -0.8605718811881188}, {\"cutoff\": \"5-10\", \"observed_effect\": -0.23253061224489802, \"count\": 0.6650935287002857, \"mean_score\": -0.8605718811881188}, {\"cutoff\": \"5-10\", \"observed_effect\": -0.14729387755102064, \"count\": 0.6580919419289362, \"mean_score\": -0.8605718811881188}, {\"cutoff\": \"5-10\", \"observed_effect\": -0.06205714285714281, \"count\": 0.621543495712851, \"mean_score\": -0.8605718811881188}, {\"cutoff\": \"5-10\", \"observed_effect\": 0.02317959183673457, \"count\": 0.5579554220963093, \"mean_score\": -0.8605718811881188}, {\"cutoff\": \"5-10\", \"observed_effect\": 0.10841632653061195, \"count\": 0.4745459689023268, \"mean_score\": -0.8605718811881188}, {\"cutoff\": \"5-10\", \"observed_effect\": 0.19365306122448978, \"count\": 0.3814912666006383, \"mean_score\": -0.8605718811881188}, {\"cutoff\": \"5-10\", \"observed_effect\": 0.27888979591836716, \"count\": 0.2893875186193248, \"mean_score\": -0.8605718811881188}, {\"cutoff\": \"5-10\", \"observed_effect\": 0.364126530612245, \"count\": 0.20688650804276787, \"mean_score\": -0.8605718811881188}, {\"cutoff\": \"5-10\", \"observed_effect\": 0.44936326530612236, \"count\": 0.13926817530477717, \"mean_score\": -0.8605718811881188}, {\"cutoff\": \"5-10\", \"observed_effect\": 0.5346, \"count\": 0.08821450349712423, \"mean_score\": -0.8605718811881188}, {\"cutoff\": \"50-100\", \"observed_effect\": -3.642, \"count\": 0.0008894244974070222, \"mean_score\": -0.3024065714285714}, {\"cutoff\": \"50-100\", \"observed_effect\": -3.5567632653061225, \"count\": 0.00225657872067874, \"mean_score\": -0.3024065714285714}, {\"cutoff\": \"50-100\", \"observed_effect\": -3.4715265306122447, \"count\": 0.00446684323903892, \"mean_score\": -0.3024065714285714}, {\"cutoff\": \"50-100\", \"observed_effect\": -3.3862897959183673, \"count\": 0.007060277959653956, \"mean_score\": -0.3024065714285714}, {\"cutoff\": \"50-100\", \"observed_effect\": -3.30105306122449, \"count\": 0.00933503594508019, \"mean_score\": -0.3024065714285714}, {\"cutoff\": \"50-100\", \"observed_effect\": -3.215816326530612, \"count\": 0.011145064330268035, \"mean_score\": -0.3024065714285714}, {\"cutoff\": \"50-100\", \"observed_effect\": -3.1305795918367347, \"count\": 0.013061205359293988, \"mean_score\": -0.3024065714285714}, {\"cutoff\": \"50-100\", \"observed_effect\": -3.045342857142857, \"count\": 0.01563419206073258, \"mean_score\": -0.3024065714285714}, {\"cutoff\": \"50-100\", \"observed_effect\": -2.9601061224489795, \"count\": 0.01890602090154639, \"mean_score\": -0.3024065714285714}, {\"cutoff\": \"50-100\", \"observed_effect\": -2.874869387755102, \"count\": 0.02264030781282281, \"mean_score\": -0.3024065714285714}, {\"cutoff\": \"50-100\", \"observed_effect\": -2.7896326530612243, \"count\": 0.02645914685392589, \"mean_score\": -0.3024065714285714}, {\"cutoff\": \"50-100\", \"observed_effect\": -2.704395918367347, \"count\": 0.029491116651990914, \"mean_score\": -0.3024065714285714}, {\"cutoff\": \"50-100\", \"observed_effect\": -2.619159183673469, \"count\": 0.030257044668998073, \"mean_score\": -0.3024065714285714}, {\"cutoff\": \"50-100\", \"observed_effect\": -2.5339224489795917, \"count\": 0.02752697243306409, \"mean_score\": -0.3024065714285714}, {\"cutoff\": \"50-100\", \"observed_effect\": -2.4486857142857144, \"count\": 0.021554751003835953, \"mean_score\": -0.3024065714285714}, {\"cutoff\": \"50-100\", \"observed_effect\": -2.363448979591837, \"count\": 0.01423498464668299, \"mean_score\": -0.3024065714285714}, {\"cutoff\": \"50-100\", \"observed_effect\": -2.278212244897959, \"count\": 0.007883365333048524, \"mean_score\": -0.3024065714285714}, {\"cutoff\": \"50-100\", \"observed_effect\": -2.1929755102040813, \"count\": 0.003944776047895221, \"mean_score\": -0.3024065714285714}, {\"cutoff\": \"50-100\", \"observed_effect\": -2.107738775510204, \"count\": 0.0027848733608838837, \"mean_score\": -0.3024065714285714}, {\"cutoff\": \"50-100\", \"observed_effect\": -2.0225020408163266, \"count\": 0.004326490453848573, \"mean_score\": -0.3024065714285714}, {\"cutoff\": \"50-100\", \"observed_effect\": -1.937265306122449, \"count\": 0.008574175094891294, \"mean_score\": -0.3024065714285714}, {\"cutoff\": \"50-100\", \"observed_effect\": -1.8520285714285714, \"count\": 0.015676475092848426, \"mean_score\": -0.3024065714285714}, {\"cutoff\": \"50-100\", \"observed_effect\": -1.766791836734694, \"count\": 0.02577076378999979, \"mean_score\": -0.3024065714285714}, {\"cutoff\": \"50-100\", \"observed_effect\": -1.6815551020408164, \"count\": 0.03849038253206159, \"mean_score\": -0.3024065714285714}, {\"cutoff\": \"50-100\", \"observed_effect\": -1.5963183673469388, \"count\": 0.05221197097556061, \"mean_score\": -0.3024065714285714}, {\"cutoff\": \"50-100\", \"observed_effect\": -1.5110816326530614, \"count\": 0.0643880272385336, \"mean_score\": -0.3024065714285714}, {\"cutoff\": \"50-100\", \"observed_effect\": -1.4258448979591836, \"count\": 0.07343528764361379, \"mean_score\": -0.3024065714285714}, {\"cutoff\": \"50-100\", \"observed_effect\": -1.3406081632653062, \"count\": 0.07973315629298788, \"mean_score\": -0.3024065714285714}, {\"cutoff\": \"50-100\", \"observed_effect\": -1.2553714285714288, \"count\": 0.08439415480659963, \"mean_score\": -0.3024065714285714}, {\"cutoff\": \"50-100\", \"observed_effect\": -1.170134693877551, \"count\": 0.0886054971073597, \"mean_score\": -0.3024065714285714}, {\"cutoff\": \"50-100\", \"observed_effect\": -1.0848979591836736, \"count\": 0.0948337877326877, \"mean_score\": -0.3024065714285714}, {\"cutoff\": \"50-100\", \"observed_effect\": -0.9996612244897958, \"count\": 0.10703240949112654, \"mean_score\": -0.3024065714285714}, {\"cutoff\": \"50-100\", \"observed_effect\": -0.9144244897959184, \"count\": 0.12958214011840552, \"mean_score\": -0.3024065714285714}, {\"cutoff\": \"50-100\", \"observed_effect\": -0.829187755102041, \"count\": 0.168096468890079, \"mean_score\": -0.3024065714285714}, {\"cutoff\": \"50-100\", \"observed_effect\": -0.7439510204081632, \"count\": 0.2311059036633285, \"mean_score\": -0.3024065714285714}, {\"cutoff\": \"50-100\", \"observed_effect\": -0.6587142857142858, \"count\": 0.32773742533978734, \"mean_score\": -0.3024065714285714}, {\"cutoff\": \"50-100\", \"observed_effect\": -0.573477551020408, \"count\": 0.4606741696456905, \"mean_score\": -0.3024065714285714}, {\"cutoff\": \"50-100\", \"observed_effect\": -0.4882408163265306, \"count\": 0.6210722894366681, \"mean_score\": -0.3024065714285714}, {\"cutoff\": \"50-100\", \"observed_effect\": -0.4030040816326532, \"count\": 0.792964814672028, \"mean_score\": -0.3024065714285714}, {\"cutoff\": \"50-100\", \"observed_effect\": -0.3177673469387754, \"count\": 0.9624887562514064, \"mean_score\": -0.3024065714285714}, {\"cutoff\": \"50-100\", \"observed_effect\": -0.23253061224489802, \"count\": 1.1154630485653667, \"mean_score\": -0.3024065714285714}, {\"cutoff\": \"50-100\", \"observed_effect\": -0.14729387755102064, \"count\": 1.2220597033141896, \"mean_score\": -0.3024065714285714}, {\"cutoff\": \"50-100\", \"observed_effect\": -0.06205714285714281, \"count\": 1.2354818761118191, \"mean_score\": -0.3024065714285714}, {\"cutoff\": \"50-100\", \"observed_effect\": 0.02317959183673457, \"count\": 1.1226844168779824, \"mean_score\": -0.3024065714285714}, {\"cutoff\": \"50-100\", \"observed_effect\": 0.10841632653061195, \"count\": 0.9003991640418367, \"mean_score\": -0.3024065714285714}, {\"cutoff\": \"50-100\", \"observed_effect\": 0.19365306122448978, \"count\": 0.6332845625512511, \"mean_score\": -0.3024065714285714}, {\"cutoff\": \"50-100\", \"observed_effect\": 0.27888979591836716, \"count\": 0.39245778365627604, \"mean_score\": -0.3024065714285714}, {\"cutoff\": \"50-100\", \"observed_effect\": 0.364126530612245, \"count\": 0.21687065075513315, \"mean_score\": -0.3024065714285714}, {\"cutoff\": \"50-100\", \"observed_effect\": 0.44936326530612236, \"count\": 0.10838213068419648, \"mean_score\": -0.3024065714285714}, {\"cutoff\": \"50-100\", \"observed_effect\": 0.5346, \"count\": 0.04969156288458683, \"mean_score\": -0.3024065714285714}, {\"cutoff\": \">100\", \"observed_effect\": -3.642, \"count\": 0.0010343327086992696, \"mean_score\": -0.24347503184713376}, {\"cutoff\": \">100\", \"observed_effect\": -3.5567632653061225, \"count\": 0.003493955608907223, \"mean_score\": -0.24347503184713376}, {\"cutoff\": \">100\", \"observed_effect\": -3.4715265306122447, \"count\": 0.008060224608135382, \"mean_score\": -0.24347503184713376}, {\"cutoff\": \">100\", \"observed_effect\": -3.3862897959183673, \"count\": 0.013069448819074118, \"mean_score\": -0.24347503184713376}, {\"cutoff\": \">100\", \"observed_effect\": -3.30105306122449, \"count\": 0.015058086167366105, \"mean_score\": -0.24347503184713376}, {\"cutoff\": \">100\", \"observed_effect\": -3.215816326530612, \"count\": 0.01267059683469171, \"mean_score\": -0.24347503184713376}, {\"cutoff\": \">100\", \"observed_effect\": -3.1305795918367347, \"count\": 0.008827521157301333, \"mean_score\": -0.24347503184713376}, {\"cutoff\": \">100\", \"observed_effect\": -3.045342857142857, \"count\": 0.006096663097628582, \"mean_score\": -0.24347503184713376}, {\"cutoff\": \">100\", \"observed_effect\": -2.9601061224489795, \"count\": 0.004021619867736896, \"mean_score\": -0.24347503184713376}, {\"cutoff\": \">100\", \"observed_effect\": -2.874869387755102, \"count\": 0.002652842959396278, \"mean_score\": -0.24347503184713376}, {\"cutoff\": \">100\", \"observed_effect\": -2.7896326530612243, \"count\": 0.003190873148369316, \"mean_score\": -0.24347503184713376}, {\"cutoff\": \">100\", \"observed_effect\": -2.704395918367347, \"count\": 0.005543824464793831, \"mean_score\": -0.24347503184713376}, {\"cutoff\": \">100\", \"observed_effect\": -2.619159183673469, \"count\": 0.008560419071483943, \"mean_score\": -0.24347503184713376}, {\"cutoff\": \">100\", \"observed_effect\": -2.5339224489795917, \"count\": 0.011613456995527845, \"mean_score\": -0.24347503184713376}, {\"cutoff\": \">100\", \"observed_effect\": -2.4486857142857144, \"count\": 0.013859374617830844, \"mean_score\": -0.24347503184713376}, {\"cutoff\": \">100\", \"observed_effect\": -2.363448979591837, \"count\": 0.01361893163379273, \"mean_score\": -0.24347503184713376}, {\"cutoff\": \">100\", \"observed_effect\": -2.278212244897959, \"count\": 0.010266086542768503, \"mean_score\": -0.24347503184713376}, {\"cutoff\": \">100\", \"observed_effect\": -2.1929755102040813, \"count\": 0.006090184846421072, \"mean_score\": -0.24347503184713376}, {\"cutoff\": \">100\", \"observed_effect\": -2.107738775510204, \"count\": 0.005152613136856333, \"mean_score\": -0.24347503184713376}, {\"cutoff\": \">100\", \"observed_effect\": -2.0225020408163266, \"count\": 0.009819945214157345, \"mean_score\": -0.24347503184713376}, {\"cutoff\": \">100\", \"observed_effect\": -1.937265306122449, \"count\": 0.018121826444683152, \"mean_score\": -0.24347503184713376}, {\"cutoff\": \">100\", \"observed_effect\": -1.8520285714285714, \"count\": 0.024704980441129617, \"mean_score\": -0.24347503184713376}, {\"cutoff\": \">100\", \"observed_effect\": -1.766791836734694, \"count\": 0.026537651505027657, \"mean_score\": -0.24347503184713376}, {\"cutoff\": \">100\", \"observed_effect\": -1.6815551020408164, \"count\": 0.025735277742603736, \"mean_score\": -0.24347503184713376}, {\"cutoff\": \">100\", \"observed_effect\": -1.5963183673469388, \"count\": 0.02600832787050154, \"mean_score\": -0.24347503184713376}, {\"cutoff\": \">100\", \"observed_effect\": -1.5110816326530614, \"count\": 0.030223820512747152, \"mean_score\": -0.24347503184713376}, {\"cutoff\": \">100\", \"observed_effect\": -1.4258448979591836, \"count\": 0.03946152137513072, \"mean_score\": -0.24347503184713376}, {\"cutoff\": \">100\", \"observed_effect\": -1.3406081632653062, \"count\": 0.05170407926321966, \"mean_score\": -0.24347503184713376}, {\"cutoff\": \">100\", \"observed_effect\": -1.2553714285714288, \"count\": 0.06256269833014294, \"mean_score\": -0.24347503184713376}, {\"cutoff\": \">100\", \"observed_effect\": -1.170134693877551, \"count\": 0.06836123701686232, \"mean_score\": -0.24347503184713376}, {\"cutoff\": \">100\", \"observed_effect\": -1.0848979591836736, \"count\": 0.0712666058894182, \"mean_score\": -0.24347503184713376}, {\"cutoff\": \">100\", \"observed_effect\": -0.9996612244897958, \"count\": 0.0804503909057773, \"mean_score\": -0.24347503184713376}, {\"cutoff\": \">100\", \"observed_effect\": -0.9144244897959184, \"count\": 0.10370489009665301, \"mean_score\": -0.24347503184713376}, {\"cutoff\": \">100\", \"observed_effect\": -0.829187755102041, \"count\": 0.14246430429954884, \"mean_score\": -0.24347503184713376}, {\"cutoff\": \">100\", \"observed_effect\": -0.7439510204081632, \"count\": 0.1956436096669806, \"mean_score\": -0.24347503184713376}, {\"cutoff\": \">100\", \"observed_effect\": -0.6587142857142858, \"count\": 0.26398584564232974, \"mean_score\": -0.24347503184713376}, {\"cutoff\": \">100\", \"observed_effect\": -0.573477551020408, \"count\": 0.35618370211719264, \"mean_score\": -0.24347503184713376}, {\"cutoff\": \">100\", \"observed_effect\": -0.4882408163265306, \"count\": 0.48521061456686376, \"mean_score\": -0.24347503184713376}, {\"cutoff\": \">100\", \"observed_effect\": -0.4030040816326532, \"count\": 0.6632856969311948, \"mean_score\": -0.24347503184713376}, {\"cutoff\": \">100\", \"observed_effect\": -0.3177673469387754, \"count\": 0.9043528077612277, \"mean_score\": -0.24347503184713376}, {\"cutoff\": \">100\", \"observed_effect\": -0.23253061224489802, \"count\": 1.2010135009893717, \"mean_score\": -0.24347503184713376}, {\"cutoff\": \">100\", \"observed_effect\": -0.14729387755102064, \"count\": 1.4789192845154289, \"mean_score\": -0.24347503184713376}, {\"cutoff\": \">100\", \"observed_effect\": -0.06205714285714281, \"count\": 1.5982493404324158, \"mean_score\": -0.24347503184713376}, {\"cutoff\": \">100\", \"observed_effect\": 0.02317959183673457, \"count\": 1.4542368326446942, \"mean_score\": -0.24347503184713376}, {\"cutoff\": \">100\", \"observed_effect\": 0.10841632653061195, \"count\": 1.085558050548434, \"mean_score\": -0.24347503184713376}, {\"cutoff\": \">100\", \"observed_effect\": 0.19365306122448978, \"count\": 0.6513220609062681, \"mean_score\": -0.24347503184713376}, {\"cutoff\": \">100\", \"observed_effect\": 0.27888979591836716, \"count\": 0.30756788535426605, \"mean_score\": -0.24347503184713376}, {\"cutoff\": \">100\", \"observed_effect\": 0.364126530612245, \"count\": 0.11251163919054816, \"mean_score\": -0.24347503184713376}, {\"cutoff\": \">100\", \"observed_effect\": 0.44936326530612236, \"count\": 0.03168889625191644, \"mean_score\": -0.24347503184713376}, {\"cutoff\": \">100\", \"observed_effect\": 0.5346, \"count\": 0.006828289444421359, \"mean_score\": -0.24347503184713376}, {\"cutoff\": \"stop codons\", \"observed_effect\": -3.642, \"count\": 0.14231801332419552, \"mean_score\": -2.643731932773109}, {\"cutoff\": \"stop codons\", \"observed_effect\": -3.5567632653061225, \"count\": 0.21712022812287965, \"mean_score\": -2.643731932773109}, {\"cutoff\": \"stop codons\", \"observed_effect\": -3.4715265306122447, \"count\": 0.30292759109086226, \"mean_score\": -2.643731932773109}, {\"cutoff\": \"stop codons\", \"observed_effect\": -3.3862897959183673, \"count\": 0.39238920123044957, \"mean_score\": -2.643731932773109}, {\"cutoff\": \"stop codons\", \"observed_effect\": -3.30105306122449, \"count\": 0.47802514446090016, \"mean_score\": -2.643731932773109}, {\"cutoff\": \"stop codons\", \"observed_effect\": -3.215816326530612, \"count\": 0.5527849213412944, \"mean_score\": -2.643731932773109}, {\"cutoff\": \"stop codons\", \"observed_effect\": -3.1305795918367347, \"count\": 0.6107819305662825, \"mean_score\": -2.643731932773109}, {\"cutoff\": \"stop codons\", \"observed_effect\": -3.045342857142857, \"count\": 0.6491756866725895, \"mean_score\": -2.643731932773109}, {\"cutoff\": \"stop codons\", \"observed_effect\": -2.9601061224489795, \"count\": 0.6695120112662531, \"mean_score\": -2.643731932773109}, {\"cutoff\": \"stop codons\", \"observed_effect\": -2.874869387755102, \"count\": 0.6762378820480522, \"mean_score\": -2.643731932773109}, {\"cutoff\": \"stop codons\", \"observed_effect\": -2.7896326530612243, \"count\": 0.6732045197078855, \"mean_score\": -2.643731932773109}, {\"cutoff\": \"stop codons\", \"observed_effect\": -2.704395918367347, \"count\": 0.6614201123460955, \"mean_score\": -2.643731932773109}, {\"cutoff\": \"stop codons\", \"observed_effect\": -2.619159183673469, \"count\": 0.6396296092352188, \"mean_score\": -2.643731932773109}, {\"cutoff\": \"stop codons\", \"observed_effect\": -2.5339224489795917, \"count\": 0.6063190218606748, \"mean_score\": -2.643731932773109}, {\"cutoff\": \"stop codons\", \"observed_effect\": -2.4486857142857144, \"count\": 0.5614829172240028, \"mean_score\": -2.643731932773109}, {\"cutoff\": \"stop codons\", \"observed_effect\": -2.363448979591837, \"count\": 0.5078611485664416, \"mean_score\": -2.643731932773109}, {\"cutoff\": \"stop codons\", \"observed_effect\": -2.278212244897959, \"count\": 0.4512957369351475, \"mean_score\": -2.643731932773109}, {\"cutoff\": \"stop codons\", \"observed_effect\": -2.1929755102040813, \"count\": 0.3991044779312076, \"mean_score\": -2.643731932773109}, {\"cutoff\": \"stop codons\", \"observed_effect\": -2.107738775510204, \"count\": 0.35653043046690297, \"mean_score\": -2.643731932773109}, {\"cutoff\": \"stop codons\", \"observed_effect\": -2.0225020408163266, \"count\": 0.3237401317494887, \"mean_score\": -2.643731932773109}, {\"cutoff\": \"stop codons\", \"observed_effect\": -1.937265306122449, \"count\": 0.29615107433153476, \"mean_score\": -2.643731932773109}, {\"cutoff\": \"stop codons\", \"observed_effect\": -1.8520285714285714, \"count\": 0.26804642191801575, \"mean_score\": -2.643731932773109}, {\"cutoff\": \"stop codons\", \"observed_effect\": -1.766791836734694, \"count\": 0.23646277078396707, \"mean_score\": -2.643731932773109}, {\"cutoff\": \"stop codons\", \"observed_effect\": -1.6815551020408164, \"count\": 0.20238350678718006, \"mean_score\": -2.643731932773109}, {\"cutoff\": \"stop codons\", \"observed_effect\": -1.5963183673469388, \"count\": 0.16894788563933535, \"mean_score\": -2.643731932773109}, {\"cutoff\": \"stop codons\", \"observed_effect\": -1.5110816326530614, \"count\": 0.13875246969886973, \"mean_score\": -2.643731932773109}, {\"cutoff\": \"stop codons\", \"observed_effect\": -1.4258448979591836, \"count\": 0.11243682413934615, \"mean_score\": -2.643731932773109}, {\"cutoff\": \"stop codons\", \"observed_effect\": -1.3406081632653062, \"count\": 0.08915239879369442, \"mean_score\": -2.643731932773109}, {\"cutoff\": \"stop codons\", \"observed_effect\": -1.2553714285714288, \"count\": 0.06794616627241756, \"mean_score\": -2.643731932773109}, {\"cutoff\": \"stop codons\", \"observed_effect\": -1.170134693877551, \"count\": 0.048727671789238126, \"mean_score\": -2.643731932773109}, {\"cutoff\": \"stop codons\", \"observed_effect\": -1.0848979591836736, \"count\": 0.03223569929303716, \"mean_score\": -2.643731932773109}, {\"cutoff\": \"stop codons\", \"observed_effect\": -0.9996612244897958, \"count\": 0.01934245990363309, \"mean_score\": -2.643731932773109}, {\"cutoff\": \"stop codons\", \"observed_effect\": -0.9144244897959184, \"count\": 0.010378936514857, \"mean_score\": -2.643731932773109}, {\"cutoff\": \"stop codons\", \"observed_effect\": -0.829187755102041, \"count\": 0.004921311982104035, \"mean_score\": -2.643731932773109}, {\"cutoff\": \"stop codons\", \"observed_effect\": -0.7439510204081632, \"count\": 0.002041568218195694, \"mean_score\": -2.643731932773109}, {\"cutoff\": \"stop codons\", \"observed_effect\": -0.6587142857142858, \"count\": 0.0007349659174305424, \"mean_score\": -2.643731932773109}, {\"cutoff\": \"stop codons\", \"observed_effect\": -0.573477551020408, \"count\": 0.0002281381644883389, \"mean_score\": -2.643731932773109}, {\"cutoff\": \"stop codons\", \"observed_effect\": -0.4882408163265306, \"count\": 6.07598525319308e-05, \"mean_score\": -2.643731932773109}, {\"cutoff\": \"stop codons\", \"observed_effect\": -0.4030040816326532, \"count\": 1.3833308969307168e-05, \"mean_score\": -2.643731932773109}, {\"cutoff\": \"stop codons\", \"observed_effect\": -0.3177673469387754, \"count\": 2.6850720269506982e-06, \"mean_score\": -2.643731932773109}, {\"cutoff\": \"stop codons\", \"observed_effect\": -0.23253061224489802, \"count\": 4.434661726728415e-07, \"mean_score\": -2.643731932773109}, {\"cutoff\": \"stop codons\", \"observed_effect\": -0.14729387755102064, \"count\": 6.223482765737872e-08, \"mean_score\": -2.643731932773109}, {\"cutoff\": \"stop codons\", \"observed_effect\": -0.06205714285714281, \"count\": 7.4138263380746086e-09, \"mean_score\": -2.643731932773109}, {\"cutoff\": \"stop codons\", \"observed_effect\": 0.02317959183673457, \"count\": 7.491681588392489e-10, \"mean_score\": -2.643731932773109}, {\"cutoff\": \"stop codons\", \"observed_effect\": 0.10841632653061195, \"count\": 6.418373270645148e-11, \"mean_score\": -2.643731932773109}, {\"cutoff\": \"stop codons\", \"observed_effect\": 0.19365306122448978, \"count\": 4.660399332577816e-12, \"mean_score\": -2.643731932773109}, {\"cutoff\": \"stop codons\", \"observed_effect\": 0.27888979591836716, \"count\": 2.867227750535346e-13, \"mean_score\": -2.643731932773109}, {\"cutoff\": \"stop codons\", \"observed_effect\": 0.364126530612245, \"count\": 1.4943841068152395e-14, \"mean_score\": -2.643731932773109}, {\"cutoff\": \"stop codons\", \"observed_effect\": 0.44936326530612236, \"count\": 6.597294931642771e-16, \"mean_score\": -2.643731932773109}, {\"cutoff\": \"stop codons\", \"observed_effect\": 0.5346, \"count\": 2.466788144281645e-17, \"mean_score\": -2.643731932773109}]}}, {\"mode\": \"vega-lite\"});\n",
       "</script>"
      ],
      "text/plain": [
       "alt.Chart(...)"
      ]
     },
     "execution_count": 12,
     "metadata": {},
     "output_type": "execute_result"
    }
   ],
   "source": [
    "score = 'observed_effect'\n",
    "# get smoothed distribution of scores\n",
    "bins = numpy.linspace(\n",
    "    natural_effects_full_filtered.query('cutoff!=False')[score].min(),\n",
    "    natural_effects_full_filtered.query('cutoff!=False')[score].max(),\n",
    "    num=50,\n",
    ")\n",
    "smoothed_dist = pd.concat(\n",
    "    [\n",
    "        pd.DataFrame(\n",
    "            {\n",
    "                \"cutoff\": cutoff,\n",
    "                score: bins,\n",
    "                \"count\": scipy.stats.gaussian_kde(df[score])(bins),\n",
    "                \"mean_score\": df[score].mean(),\n",
    "            }\n",
    "        )\n",
    "        for cutoff, df in natural_effects_full_filtered.query('cutoff!=False').groupby([\"cutoff\"])\n",
    "    ]\n",
    ")\n",
    "\n",
    "# ridgeline plot: https://altair-viz.github.io/gallery/ridgeline_plot.html\n",
    "facet_height = 27\n",
    "facet_overlap = 0.7\n",
    "ridgeline_chart = (\n",
    "    alt.Chart(smoothed_dist)\n",
    "    .encode(\n",
    "        x=alt.X(score, title=\"score\", scale=alt.Scale(nice=False)),\n",
    "        y=alt.Y(\n",
    "            \"count\",\n",
    "            axis=None,\n",
    "            scale=alt.Scale(range=[facet_height, -facet_overlap * facet_height]),\n",
    "        ),\n",
    "        fill=alt.Fill(\n",
    "            \"mean_score:Q\",\n",
    "            title=\"mean score\",\n",
    "            legend=alt.Legend(direction=\"horizontal\"),\n",
    "            scale=alt.Scale(scheme=\"yellowgreenblue\"),\n",
    "        ),\n",
    "        row=alt.Row(\n",
    "            \"cutoff\",\n",
    "            title=None,\n",
    "            header=alt.Header(labelAlign=\"left\", labelAngle=0),\n",
    "            spacing=0,\n",
    "            sort=[\n",
    "                \"stop codons\",\n",
    "                \"1-3\",\n",
    "                \"3-5\",\n",
    "                \"5-10\",\n",
    "                \"10-50\",\n",
    "                \"50-100\",\n",
    "                \"100-10000\",\n",
    "            ],\n",
    "        ),\n",
    "        #column=alt.Column(\n",
    "        #    \"library\",\n",
    "        #    title=None,\n",
    "        #    header=alt.Header(\n",
    "        #        labelFontWeight=\"bold\",\n",
    "        #        labelPadding=facet_height * facet_overlap,\n",
    "        #    ),\n",
    "        #),\n",
    "        tooltip=[\n",
    "            \"cutoff\",\n",
    "            alt.Tooltip(\"mean_score\", format=\".2f\", title=\"mean score\"),\n",
    "        ],\n",
    "    )\n",
    "    .mark_area(\n",
    "        interpolate=\"monotone\",\n",
    "        smooth=True,\n",
    "        fillOpacity=0.8,\n",
    "        stroke=\"lightgray\",\n",
    "        strokeWidth=0.5,\n",
    "    )\n",
    "    .configure_view(stroke=None)\n",
    "    .configure_axis(grid=False)\n",
    "    .properties(width=200, height=facet_height, bounds=\"flush\")\n",
    ")\n",
    "\n",
    "ridgeline_chart"
   ]
  },
  {
   "cell_type": "code",
   "execution_count": null,
   "id": "9951abef-baf1-42c6-bf58-f3aed97492b8",
   "metadata": {},
   "outputs": [],
   "source": []
  }
 ],
 "metadata": {
  "kernelspec": {
   "display_name": "Python 3 (ipykernel)",
   "language": "python",
   "name": "python3"
  },
  "language_info": {
   "codemirror_mode": {
    "name": "ipython",
    "version": 3
   },
   "file_extension": ".py",
   "mimetype": "text/x-python",
   "name": "python",
   "nbconvert_exporter": "python",
   "pygments_lexer": "ipython3",
   "version": "3.11.0"
  }
 },
 "nbformat": 4,
 "nbformat_minor": 5
}
